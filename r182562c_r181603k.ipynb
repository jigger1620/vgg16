{
  "nbformat": 4,
  "nbformat_minor": 0,
  "metadata": {
    "colab": {
      "name": "r182562c_r181603k.ipynb",
      "provenance": [],
      "collapsed_sections": []
    },
    "kernelspec": {
      "display_name": "Python 3",
      "name": "python3"
    },
    "language_info": {
      "name": "python"
    },
    "accelerator": "GPU"
  },
  "cells": [
    {
      "cell_type": "markdown",
      "metadata": {
        "id": "8ENmxQktFRyP"
      },
      "source": [
        "***R181603K_R182562C***"
      ]
    },
    {
      "cell_type": "markdown",
      "metadata": {
        "id": "ooyq3xKQcbno"
      },
      "source": [
        "# **VGG16**"
      ]
    },
    {
      "cell_type": "markdown",
      "metadata": {
        "id": "nc72ZV7K5UX8"
      },
      "source": [
        "***ASSIGNMENT_2***"
      ]
    },
    {
      "cell_type": "code",
      "metadata": {
        "id": "HbaTLSeqwFZA",
        "colab": {
          "base_uri": "https://localhost:8080/"
        },
        "outputId": "c4b46c6c-f30f-4040-8acc-c0ae2f24bb1d"
      },
      "source": [
        "from google.colab import drive\n",
        "drive.mount('/content/drive')"
      ],
      "execution_count": null,
      "outputs": [
        {
          "output_type": "stream",
          "text": [
            "Mounted at /content/drive\n"
          ],
          "name": "stdout"
        }
      ]
    },
    {
      "cell_type": "code",
      "metadata": {
        "id": "_fct5zoCIc7I",
        "colab": {
          "base_uri": "https://localhost:8080/"
        },
        "outputId": "c2b68d0b-4758-45a4-db7c-fb4945d439d2"
      },
      "source": [
        "import pandas as pd\n",
        "import numpy as np\n",
        "import datetime\n",
        "from google.colab import drive\n",
        "import tensorflow as tf\n",
        "import cv2     # for capturing videos\n",
        "import math   # for mathematical operations\n",
        "import matplotlib.pyplot as plt    # for plotting the images\n",
        "%matplotlib inline\n",
        "import pandas as pd\n",
        "from keras.preprocessing import image   # for preprocessing the images\n",
        "import numpy as np    # for mathematical operations\n",
        "from keras.utils import np_utils\n",
        "from skimage.transform import resize   # for resizing images\n",
        "drive.mount('/content/drive')\n",
        "data = pd.read_csv('/content/drive/MyDrive/Colab Notebooks/mapping.csv')\n",
        "videoFile = '/content/drive/MyDrive/Colab Notebooks/vidtest2.mp4'\n",
        "videoFile1 = '/content/drive/MyDrive/Colab Notebooks/vidtest1.mp4'\n",
        "test = pd.read_csv('/content/drive/MyDrive/Colab Notebooks/test.csv')\n"
      ],
      "execution_count": null,
      "outputs": [
        {
          "output_type": "stream",
          "text": [
            "Drive already mounted at /content/drive; to attempt to forcibly remount, call drive.mount(\"/content/drive\", force_remount=True).\n"
          ],
          "name": "stdout"
        }
      ]
    },
    {
      "cell_type": "code",
      "metadata": {
        "id": "KIRBbZxQTUqW",
        "colab": {
          "base_uri": "https://localhost:8080/"
        },
        "outputId": "81659f8c-5626-439d-c7dd-121232e8bcec"
      },
      "source": [
        "from keras.applications.vgg16 import VGG16\n",
        "model = VGG16(weights='imagenet')\n",
        "model.summary()"
      ],
      "execution_count": null,
      "outputs": [
        {
          "output_type": "stream",
          "text": [
            "Model: \"vgg16\"\n",
            "_________________________________________________________________\n",
            "Layer (type)                 Output Shape              Param #   \n",
            "=================================================================\n",
            "input_8 (InputLayer)         [(None, 224, 224, 3)]     0         \n",
            "_________________________________________________________________\n",
            "block1_conv1 (Conv2D)        (None, 224, 224, 64)      1792      \n",
            "_________________________________________________________________\n",
            "block1_conv2 (Conv2D)        (None, 224, 224, 64)      36928     \n",
            "_________________________________________________________________\n",
            "block1_pool (MaxPooling2D)   (None, 112, 112, 64)      0         \n",
            "_________________________________________________________________\n",
            "block2_conv1 (Conv2D)        (None, 112, 112, 128)     73856     \n",
            "_________________________________________________________________\n",
            "block2_conv2 (Conv2D)        (None, 112, 112, 128)     147584    \n",
            "_________________________________________________________________\n",
            "block2_pool (MaxPooling2D)   (None, 56, 56, 128)       0         \n",
            "_________________________________________________________________\n",
            "block3_conv1 (Conv2D)        (None, 56, 56, 256)       295168    \n",
            "_________________________________________________________________\n",
            "block3_conv2 (Conv2D)        (None, 56, 56, 256)       590080    \n",
            "_________________________________________________________________\n",
            "block3_conv3 (Conv2D)        (None, 56, 56, 256)       590080    \n",
            "_________________________________________________________________\n",
            "block3_pool (MaxPooling2D)   (None, 28, 28, 256)       0         \n",
            "_________________________________________________________________\n",
            "block4_conv1 (Conv2D)        (None, 28, 28, 512)       1180160   \n",
            "_________________________________________________________________\n",
            "block4_conv2 (Conv2D)        (None, 28, 28, 512)       2359808   \n",
            "_________________________________________________________________\n",
            "block4_conv3 (Conv2D)        (None, 28, 28, 512)       2359808   \n",
            "_________________________________________________________________\n",
            "block4_pool (MaxPooling2D)   (None, 14, 14, 512)       0         \n",
            "_________________________________________________________________\n",
            "block5_conv1 (Conv2D)        (None, 14, 14, 512)       2359808   \n",
            "_________________________________________________________________\n",
            "block5_conv2 (Conv2D)        (None, 14, 14, 512)       2359808   \n",
            "_________________________________________________________________\n",
            "block5_conv3 (Conv2D)        (None, 14, 14, 512)       2359808   \n",
            "_________________________________________________________________\n",
            "block5_pool (MaxPooling2D)   (None, 7, 7, 512)         0         \n",
            "_________________________________________________________________\n",
            "flatten (Flatten)            (None, 25088)             0         \n",
            "_________________________________________________________________\n",
            "fc1 (Dense)                  (None, 4096)              102764544 \n",
            "_________________________________________________________________\n",
            "fc2 (Dense)                  (None, 4096)              16781312  \n",
            "_________________________________________________________________\n",
            "predictions (Dense)          (None, 1000)              4097000   \n",
            "=================================================================\n",
            "Total params: 138,357,544\n",
            "Trainable params: 138,357,544\n",
            "Non-trainable params: 0\n",
            "_________________________________________________________________\n"
          ],
          "name": "stdout"
        }
      ]
    },
    {
      "cell_type": "code",
      "metadata": {
        "colab": {
          "base_uri": "https://localhost:8080/"
        },
        "id": "KziXn3OdIflU",
        "outputId": "3848c1f6-7069-485a-8bc8-b8aaa384cdc9"
      },
      "source": [
        "# GETING THE VIDEO\n",
        "count = 0\n",
        "videoFile = \"vidtest2.mp4\"\n",
        "cap = cv2.VideoCapture(videoFile)   \n",
        "frameRate = cap.get(5) \n",
        "x=1\n",
        "while(cap.isOpened()):\n",
        "    frameId = cap.get(1) \n",
        "    ret, frame = cap.read()\n",
        "    if (ret != True):\n",
        "        break\n",
        "    if (frameId % math.floor(frameRate) == 0):\n",
        "        filename =\"frame%d.jpg\" % count;count+=1\n",
        "        cv2.imwrite(filename, frame)\n",
        "cap.release()\n",
        "print (\"Completed!\")\n"
      ],
      "execution_count": null,
      "outputs": [
        {
          "output_type": "stream",
          "text": [
            "Completed!\n"
          ],
          "name": "stdout"
        }
      ]
    },
    {
      "cell_type": "code",
      "metadata": {
        "colab": {
          "base_uri": "https://localhost:8080/"
        },
        "id": "XawsKsvT2zEm",
        "outputId": "d1756b72-4d5a-452b-c079-35a6ca41d16a"
      },
      "source": [
        "import os\n",
        "\n",
        "# GETTING WORKING DIR (cwd)\n",
        "cwd = os.getcwd()  \n",
        "files = os.listdir(cwd)  \n",
        "print(\"Files in %r: %s\" % (cwd, files))"
      ],
      "execution_count": null,
      "outputs": [
        {
          "output_type": "stream",
          "text": [
            "Files in '/content': ['.config', 'drive', 'sample_data']\n"
          ],
          "name": "stdout"
        }
      ]
    },
    {
      "cell_type": "code",
      "metadata": {
        "colab": {
          "base_uri": "https://localhost:8080/",
          "height": 287
        },
        "id": "v-llPk9_yTE-",
        "outputId": "b848b6f6-f593-4ad9-e021-1a911240624d"
      },
      "source": [
        "#READING IMAGE FORM FILE \n",
        "img = plt.imread('/content/drive/My Drive/Colab Notebooks/Advanced_AI/frame0.jpeg')  \n",
        "plt.imshow(img)"
      ],
      "execution_count": null,
      "outputs": [
        {
          "output_type": "execute_result",
          "data": {
            "text/plain": [
              "<matplotlib.image.AxesImage at 0x7f004a03d510>"
            ]
          },
          "metadata": {
            "tags": []
          },
          "execution_count": 62
        },
        {
          "output_type": "display_data",
          "data": {
            "image/png": "[encoded data removed]",
            "text/plain": [
              "<Figure size 432x288 with 1 Axes>"
            ]
          },
          "metadata": {
            "tags": [],
            "needs_background": "light"
          }
        }
      ]
    },
    {
      "cell_type": "code",
      "metadata": {
        "colab": {
          "base_uri": "https://localhost:8080/",
          "height": 202
        },
        "id": "COtRbD5puA4_",
        "outputId": "8a09ad4d-4d57-4618-85b9-9056feac984b"
      },
      "source": [
        " # READING THE CSV FILE\n",
        "data = pd.read_csv('/content/drive/My Drive/Colab Notebooks/mapping.csv')    \n",
        "data.head()      "
      ],
      "execution_count": null,
      "outputs": [
        {
          "output_type": "execute_result",
          "data": {
            "text/html": [
              "<div>\n",
              "<style scoped>\n",
              "    .dataframe tbody tr th:only-of-type {\n",
              "        vertical-align: middle;\n",
              "    }\n",
              "\n",
              "    .dataframe tbody tr th {\n",
              "        vertical-align: top;\n",
              "    }\n",
              "\n",
              "    .dataframe thead th {\n",
              "        text-align: right;\n",
              "    }\n",
              "</style>\n",
              "<table border=\"1\" class=\"dataframe\">\n",
              "  <thead>\n",
              "    <tr style=\"text-align: right;\">\n",
              "      <th></th>\n",
              "      <th>Image_ID</th>\n",
              "      <th>Class</th>\n",
              "    </tr>\n",
              "  </thead>\n",
              "  <tbody>\n",
              "    <tr>\n",
              "      <th>0</th>\n",
              "      <td>frame0.jpg</td>\n",
              "      <td>1</td>\n",
              "    </tr>\n",
              "    <tr>\n",
              "      <th>1</th>\n",
              "      <td>frame1.jpg</td>\n",
              "      <td>1</td>\n",
              "    </tr>\n",
              "    <tr>\n",
              "      <th>2</th>\n",
              "      <td>frame2.jpg</td>\n",
              "      <td>2</td>\n",
              "    </tr>\n",
              "    <tr>\n",
              "      <th>3</th>\n",
              "      <td>frame3.jpg</td>\n",
              "      <td>2</td>\n",
              "    </tr>\n",
              "    <tr>\n",
              "      <th>4</th>\n",
              "      <td>frame4.jpg</td>\n",
              "      <td>2</td>\n",
              "    </tr>\n",
              "  </tbody>\n",
              "</table>\n",
              "</div>"
            ],
            "text/plain": [
              "     Image_ID  Class\n",
              "0  frame0.jpg      1\n",
              "1  frame1.jpg      1\n",
              "2  frame2.jpg      2\n",
              "3  frame3.jpg      2\n",
              "4  frame4.jpg      2"
            ]
          },
          "metadata": {
            "tags": []
          },
          "execution_count": 63
        }
      ]
    },
    {
      "cell_type": "code",
      "metadata": {
        "id": "LnxwZEHwu9El"
      },
      "source": [
        "# CREATE AN EMPTY ARRAY\n",
        "X = [ ]     \n",
        "for img_name in data.Image_ID:\n",
        "    #img = plt.imread('' + img_name)\n",
        "    X.append(img)  # storing each image in array X\n",
        "X = np.array(X)    # converting list to array"
      ],
      "execution_count": null,
      "outputs": []
    },
    {
      "cell_type": "code",
      "metadata": {
        "id": "fZQnQr82xnB_"
      },
      "source": [
        "y = data.Class\n",
        "dummy_y = np_utils.to_categorical(y)    # one hot encoding Classes"
      ],
      "execution_count": null,
      "outputs": []
    },
    {
      "cell_type": "code",
      "metadata": {
        "id": "8DumBV1B5_8_"
      },
      "source": [
        "image = []\n",
        "for i in range(0,X.shape[0]):\n",
        "    a = resize(X[i], preserve_range=True, output_shape=(224,224)).astype(int)      # reshaping to 224*224*3\n",
        "    image.append(a)\n",
        "X = np.array(image)"
      ],
      "execution_count": null,
      "outputs": []
    },
    {
      "cell_type": "code",
      "metadata": {
        "colab": {
          "base_uri": "https://localhost:8080/",
          "height": 35
        },
        "id": "bTX_P0gY61GS",
        "outputId": "399cacbc-3726-4183-e9b3-5ff48a85b03b"
      },
      "source": [
        "'''\n",
        "from keras.applications.vgg16 import preprocess_input\n",
        "X = preprocess_input(X, mode='tf')      # preprocessing the input data\n",
        "'''"
      ],
      "execution_count": null,
      "outputs": [
        {
          "output_type": "execute_result",
          "data": {
            "application/vnd.google.colaboratory.intrinsic+json": {
              "type": "string"
            },
            "text/plain": [
              "\"\\nfrom keras.applications.vgg16 import preprocess_input\\nX = preprocess_input(X, mode='tf')      # preprocessing the input data\\n\""
            ]
          },
          "metadata": {
            "tags": []
          },
          "execution_count": 67
        }
      ]
    },
    {
      "cell_type": "code",
      "metadata": {
        "id": "Q3kYS6jP699L"
      },
      "source": [
        "from sklearn.model_selection import train_test_split\n",
        "X_train, X_valid, y_train, y_valid = train_test_split(X, dummy_y, test_size=0.3, random_state=42)    # preparing the validation set"
      ],
      "execution_count": null,
      "outputs": []
    },
    {
      "cell_type": "code",
      "metadata": {
        "id": "1gJKk_At727r"
      },
      "source": [
        "from keras.models import Sequential\n",
        "from keras.applications.vgg16 import VGG16\n",
        "from keras.layers import Dense, InputLayer, Dropout"
      ],
      "execution_count": null,
      "outputs": []
    },
    {
      "cell_type": "code",
      "metadata": {
        "id": "AsINpQ-o79--"
      },
      "source": [
        "base_model = VGG16(weights='imagenet', include_top=False, input_shape=(224, 224, 3))    # include_top=False to remove the top layer"
      ],
      "execution_count": null,
      "outputs": []
    },
    {
      "cell_type": "code",
      "metadata": {
        "colab": {
          "base_uri": "https://localhost:8080/"
        },
        "id": "CNsTR_3f8Bf8",
        "outputId": "42c9dbdb-8c65-4776-a65a-2964f2c3ed3f"
      },
      "source": [
        "X_train = base_model.predict(X_train)\n",
        "X_valid = base_model.predict(X_valid)\n",
        "X_train.shape, X_valid.shape"
      ],
      "execution_count": null,
      "outputs": [
        {
          "output_type": "execute_result",
          "data": {
            "text/plain": [
              "((208, 7, 7, 512), (90, 7, 7, 512))"
            ]
          },
          "metadata": {
            "tags": []
          },
          "execution_count": 71
        }
      ]
    },
    {
      "cell_type": "code",
      "metadata": {
        "id": "lYE2ZTiZ8HAY"
      },
      "source": [
        "# CONVERT TO 1D\n",
        "X_train = X_train.reshape(208, 7*7*512)     \n",
        "X_valid = X_valid.reshape(90, 7*7*512)"
      ],
      "execution_count": null,
      "outputs": []
    },
    {
      "cell_type": "code",
      "metadata": {
        "id": "y-IC1A5v8OvU"
      },
      "source": [
        "#CENTRE TE DATA\n",
        "train = X_train/X_train.max()     \n",
        "X_valid = X_valid/X_train.max()"
      ],
      "execution_count": null,
      "outputs": []
    },
    {
      "cell_type": "code",
      "metadata": {
        "id": "FALH8QrT8Sle"
      },
      "source": [
        "#BUILDING THE MODEL\n",
        "model = Sequential()\n",
        "model.add(InputLayer((7*7*512,)))    # input layer\n",
        "model.add(Dense(units=1024, activation='sigmoid')) # hidden layer\n",
        "model.add(Dense(3, activation='softmax'))    # output layer"
      ],
      "execution_count": null,
      "outputs": []
    },
    {
      "cell_type": "code",
      "metadata": {
        "colab": {
          "base_uri": "https://localhost:8080/"
        },
        "id": "MXUpt8GH8Xe-",
        "outputId": "0889e376-8bdc-4cf1-b91a-ef12868aeab0"
      },
      "source": [
        "model.summary()"
      ],
      "execution_count": null,
      "outputs": [
        {
          "output_type": "stream",
          "text": [
            "Model: \"sequential_1\"\n",
            "_________________________________________________________________\n",
            "Layer (type)                 Output Shape              Param #   \n",
            "=================================================================\n",
            "dense_2 (Dense)              (None, 1024)              25691136  \n",
            "_________________________________________________________________\n",
            "dense_3 (Dense)              (None, 3)                 3075      \n",
            "=================================================================\n",
            "Total params: 25,694,211\n",
            "Trainable params: 25,694,211\n",
            "Non-trainable params: 0\n",
            "_________________________________________________________________\n"
          ],
          "name": "stdout"
        }
      ]
    },
    {
      "cell_type": "code",
      "metadata": {
        "id": "oV_nYUsY8cwK"
      },
      "source": [
        "#COMPILING THE MODEL\n",
        "model.compile(loss='categorical_crossentropy', optimizer='adam', metrics=['accuracy'])\n"
      ],
      "execution_count": null,
      "outputs": []
    },
    {
      "cell_type": "code",
      "metadata": {
        "colab": {
          "base_uri": "https://localhost:8080/"
        },
        "id": "GBsfVRue8g9e",
        "outputId": "3e207e31-68fe-41b2-ba03-2dac4edf2955"
      },
      "source": [
        "#TRAINING THE MODEL\n",
        "model.fit(train, y_train, epochs=100, validation_data=(X_valid, y_valid))"
      ],
      "execution_count": null,
      "outputs": [
        {
          "output_type": "stream",
          "text": [
            "Epoch 1/100\n",
            "7/7 [==============================] - 1s 43ms/step - loss: 1.4802 - accuracy: 0.3508 - val_loss: 1.3664 - val_accuracy: 0.2444\n",
            "Epoch 2/100\n",
            "7/7 [==============================] - 0s 14ms/step - loss: 1.4007 - accuracy: 0.2906 - val_loss: 1.2201 - val_accuracy: 0.3667\n",
            "Epoch 3/100\n",
            "7/7 [==============================] - 0s 14ms/step - loss: 1.2067 - accuracy: 0.3580 - val_loss: 1.1170 - val_accuracy: 0.3889\n",
            "Epoch 4/100\n",
            "7/7 [==============================] - 0s 14ms/step - loss: 1.1323 - accuracy: 0.3489 - val_loss: 1.0984 - val_accuracy: 0.3889\n",
            "Epoch 5/100\n",
            "7/7 [==============================] - 0s 12ms/step - loss: 1.0834 - accuracy: 0.4349 - val_loss: 1.1075 - val_accuracy: 0.3667\n",
            "Epoch 6/100\n",
            "7/7 [==============================] - 0s 13ms/step - loss: 1.1082 - accuracy: 0.3532 - val_loss: 1.1456 - val_accuracy: 0.3889\n",
            "Epoch 7/100\n",
            "7/7 [==============================] - 0s 14ms/step - loss: 1.0854 - accuracy: 0.3961 - val_loss: 1.0908 - val_accuracy: 0.3889\n",
            "Epoch 8/100\n",
            "7/7 [==============================] - 0s 14ms/step - loss: 1.1157 - accuracy: 0.3335 - val_loss: 1.1204 - val_accuracy: 0.3889\n",
            "Epoch 9/100\n",
            "7/7 [==============================] - 0s 13ms/step - loss: 1.0774 - accuracy: 0.4210 - val_loss: 1.1290 - val_accuracy: 0.3667\n",
            "Epoch 10/100\n",
            "7/7 [==============================] - 0s 13ms/step - loss: 1.1293 - accuracy: 0.3449 - val_loss: 1.2169 - val_accuracy: 0.3667\n",
            "Epoch 11/100\n",
            "7/7 [==============================] - 0s 12ms/step - loss: 1.1230 - accuracy: 0.3789 - val_loss: 1.1391 - val_accuracy: 0.2444\n",
            "Epoch 12/100\n",
            "7/7 [==============================] - 0s 13ms/step - loss: 1.1329 - accuracy: 0.3219 - val_loss: 1.1307 - val_accuracy: 0.3667\n",
            "Epoch 13/100\n",
            "7/7 [==============================] - 0s 12ms/step - loss: 1.1471 - accuracy: 0.2826 - val_loss: 1.2543 - val_accuracy: 0.3889\n",
            "Epoch 14/100\n",
            "7/7 [==============================] - 0s 14ms/step - loss: 1.2230 - accuracy: 0.4007 - val_loss: 1.3774 - val_accuracy: 0.3889\n",
            "Epoch 15/100\n",
            "7/7 [==============================] - 0s 13ms/step - loss: 1.3032 - accuracy: 0.3386 - val_loss: 1.3248 - val_accuracy: 0.3667\n",
            "Epoch 16/100\n",
            "7/7 [==============================] - 0s 12ms/step - loss: 1.1592 - accuracy: 0.4253 - val_loss: 1.1432 - val_accuracy: 0.3889\n",
            "Epoch 17/100\n",
            "7/7 [==============================] - 0s 12ms/step - loss: 1.1143 - accuracy: 0.3272 - val_loss: 1.1531 - val_accuracy: 0.3889\n",
            "Epoch 18/100\n",
            "7/7 [==============================] - 0s 13ms/step - loss: 1.0935 - accuracy: 0.4715 - val_loss: 1.2359 - val_accuracy: 0.3667\n",
            "Epoch 19/100\n",
            "7/7 [==============================] - 0s 12ms/step - loss: 1.2362 - accuracy: 0.3405 - val_loss: 1.0887 - val_accuracy: 0.3667\n",
            "Epoch 20/100\n",
            "7/7 [==============================] - 0s 12ms/step - loss: 1.1320 - accuracy: 0.2930 - val_loss: 1.2046 - val_accuracy: 0.3889\n",
            "Epoch 21/100\n",
            "7/7 [==============================] - 0s 13ms/step - loss: 1.1199 - accuracy: 0.3656 - val_loss: 1.1323 - val_accuracy: 0.3889\n",
            "Epoch 22/100\n",
            "7/7 [==============================] - 0s 13ms/step - loss: 1.1430 - accuracy: 0.4080 - val_loss: 1.1340 - val_accuracy: 0.3667\n",
            "Epoch 23/100\n",
            "7/7 [==============================] - 0s 12ms/step - loss: 1.1326 - accuracy: 0.3467 - val_loss: 1.0989 - val_accuracy: 0.3889\n",
            "Epoch 24/100\n",
            "7/7 [==============================] - 0s 12ms/step - loss: 1.0713 - accuracy: 0.3814 - val_loss: 1.0885 - val_accuracy: 0.3889\n",
            "Epoch 25/100\n",
            "7/7 [==============================] - 0s 12ms/step - loss: 1.0959 - accuracy: 0.3225 - val_loss: 1.1112 - val_accuracy: 0.3889\n",
            "Epoch 26/100\n",
            "7/7 [==============================] - 0s 13ms/step - loss: 1.0611 - accuracy: 0.4636 - val_loss: 1.1392 - val_accuracy: 0.3667\n",
            "Epoch 27/100\n",
            "7/7 [==============================] - 0s 12ms/step - loss: 1.1129 - accuracy: 0.3932 - val_loss: 1.1648 - val_accuracy: 0.3889\n",
            "Epoch 28/100\n",
            "7/7 [==============================] - 0s 12ms/step - loss: 1.1138 - accuracy: 0.3704 - val_loss: 1.1311 - val_accuracy: 0.3889\n",
            "Epoch 29/100\n",
            "7/7 [==============================] - 0s 13ms/step - loss: 1.1374 - accuracy: 0.4366 - val_loss: 1.1712 - val_accuracy: 0.3667\n",
            "Epoch 30/100\n",
            "7/7 [==============================] - 0s 13ms/step - loss: 1.1675 - accuracy: 0.3481 - val_loss: 1.1064 - val_accuracy: 0.3889\n",
            "Epoch 31/100\n",
            "7/7 [==============================] - 0s 12ms/step - loss: 1.1454 - accuracy: 0.3430 - val_loss: 1.1568 - val_accuracy: 0.3889\n",
            "Epoch 32/100\n",
            "7/7 [==============================] - 0s 12ms/step - loss: 1.1171 - accuracy: 0.4142 - val_loss: 1.1289 - val_accuracy: 0.3667\n",
            "Epoch 33/100\n",
            "7/7 [==============================] - 0s 12ms/step - loss: 1.1203 - accuracy: 0.3851 - val_loss: 1.0972 - val_accuracy: 0.3889\n",
            "Epoch 34/100\n",
            "7/7 [==============================] - 0s 12ms/step - loss: 1.0710 - accuracy: 0.4149 - val_loss: 1.0808 - val_accuracy: 0.3667\n",
            "Epoch 35/100\n",
            "7/7 [==============================] - 0s 13ms/step - loss: 1.0674 - accuracy: 0.4110 - val_loss: 1.0833 - val_accuracy: 0.3667\n",
            "Epoch 36/100\n",
            "7/7 [==============================] - 0s 12ms/step - loss: 1.0769 - accuracy: 0.3828 - val_loss: 1.0913 - val_accuracy: 0.3889\n",
            "Epoch 37/100\n",
            "7/7 [==============================] - 0s 12ms/step - loss: 1.1230 - accuracy: 0.3775 - val_loss: 1.1236 - val_accuracy: 0.3889\n",
            "Epoch 38/100\n",
            "7/7 [==============================] - 0s 13ms/step - loss: 1.1401 - accuracy: 0.4613 - val_loss: 1.1643 - val_accuracy: 0.3667\n",
            "Epoch 39/100\n",
            "7/7 [==============================] - 0s 12ms/step - loss: 1.1507 - accuracy: 0.3635 - val_loss: 1.1133 - val_accuracy: 0.3889\n",
            "Epoch 40/100\n",
            "7/7 [==============================] - 0s 12ms/step - loss: 1.1143 - accuracy: 0.2993 - val_loss: 1.0847 - val_accuracy: 0.3889\n",
            "Epoch 41/100\n",
            "7/7 [==============================] - 0s 14ms/step - loss: 1.1082 - accuracy: 0.4130 - val_loss: 1.1067 - val_accuracy: 0.3667\n",
            "Epoch 42/100\n",
            "7/7 [==============================] - 0s 13ms/step - loss: 1.0643 - accuracy: 0.4078 - val_loss: 1.0837 - val_accuracy: 0.3889\n",
            "Epoch 43/100\n",
            "7/7 [==============================] - 0s 13ms/step - loss: 1.1127 - accuracy: 0.3594 - val_loss: 1.1127 - val_accuracy: 0.3889\n",
            "Epoch 44/100\n",
            "7/7 [==============================] - 0s 12ms/step - loss: 1.1067 - accuracy: 0.3646 - val_loss: 1.0833 - val_accuracy: 0.3889\n",
            "Epoch 45/100\n",
            "7/7 [==============================] - 0s 12ms/step - loss: 1.0807 - accuracy: 0.3880 - val_loss: 1.0895 - val_accuracy: 0.3889\n",
            "Epoch 46/100\n",
            "7/7 [==============================] - 0s 12ms/step - loss: 1.0776 - accuracy: 0.3852 - val_loss: 1.0878 - val_accuracy: 0.3667\n",
            "Epoch 47/100\n",
            "7/7 [==============================] - 0s 12ms/step - loss: 1.0995 - accuracy: 0.3327 - val_loss: 1.0934 - val_accuracy: 0.3667\n",
            "Epoch 48/100\n",
            "7/7 [==============================] - 0s 12ms/step - loss: 1.0721 - accuracy: 0.3954 - val_loss: 1.0889 - val_accuracy: 0.3889\n",
            "Epoch 49/100\n",
            "7/7 [==============================] - 0s 12ms/step - loss: 1.1290 - accuracy: 0.2907 - val_loss: 1.1255 - val_accuracy: 0.3889\n",
            "Epoch 50/100\n",
            "7/7 [==============================] - 0s 13ms/step - loss: 1.1665 - accuracy: 0.4105 - val_loss: 1.1019 - val_accuracy: 0.3667\n",
            "Epoch 51/100\n",
            "7/7 [==============================] - 0s 14ms/step - loss: 1.0964 - accuracy: 0.3884 - val_loss: 1.1087 - val_accuracy: 0.3889\n",
            "Epoch 52/100\n",
            "7/7 [==============================] - 0s 13ms/step - loss: 1.0752 - accuracy: 0.4148 - val_loss: 1.0881 - val_accuracy: 0.3667\n",
            "Epoch 53/100\n",
            "7/7 [==============================] - 0s 12ms/step - loss: 1.1177 - accuracy: 0.3257 - val_loss: 1.1064 - val_accuracy: 0.3889\n",
            "Epoch 54/100\n",
            "7/7 [==============================] - 0s 12ms/step - loss: 1.1287 - accuracy: 0.3570 - val_loss: 1.0861 - val_accuracy: 0.3889\n",
            "Epoch 55/100\n",
            "7/7 [==============================] - 0s 12ms/step - loss: 1.0734 - accuracy: 0.4126 - val_loss: 1.0936 - val_accuracy: 0.3667\n",
            "Epoch 56/100\n",
            "7/7 [==============================] - 0s 14ms/step - loss: 1.0968 - accuracy: 0.3756 - val_loss: 1.0863 - val_accuracy: 0.3889\n",
            "Epoch 57/100\n",
            "7/7 [==============================] - 0s 12ms/step - loss: 1.0812 - accuracy: 0.4230 - val_loss: 1.0924 - val_accuracy: 0.3667\n",
            "Epoch 58/100\n",
            "7/7 [==============================] - 0s 13ms/step - loss: 1.0777 - accuracy: 0.3969 - val_loss: 1.0968 - val_accuracy: 0.3889\n",
            "Epoch 59/100\n",
            "7/7 [==============================] - 0s 14ms/step - loss: 1.0857 - accuracy: 0.4092 - val_loss: 1.0957 - val_accuracy: 0.3667\n",
            "Epoch 60/100\n",
            "7/7 [==============================] - 0s 12ms/step - loss: 1.1120 - accuracy: 0.3611 - val_loss: 1.0895 - val_accuracy: 0.3889\n",
            "Epoch 61/100\n",
            "7/7 [==============================] - 0s 13ms/step - loss: 1.1001 - accuracy: 0.3157 - val_loss: 1.1065 - val_accuracy: 0.3889\n",
            "Epoch 62/100\n",
            "7/7 [==============================] - 0s 12ms/step - loss: 1.0781 - accuracy: 0.3931 - val_loss: 1.0800 - val_accuracy: 0.3889\n",
            "Epoch 63/100\n",
            "7/7 [==============================] - 0s 14ms/step - loss: 1.0854 - accuracy: 0.3850 - val_loss: 1.0885 - val_accuracy: 0.3889\n",
            "Epoch 64/100\n",
            "7/7 [==============================] - 0s 12ms/step - loss: 1.0961 - accuracy: 0.3735 - val_loss: 1.0990 - val_accuracy: 0.3889\n",
            "Epoch 65/100\n",
            "7/7 [==============================] - 0s 12ms/step - loss: 1.0724 - accuracy: 0.4263 - val_loss: 1.0890 - val_accuracy: 0.3667\n",
            "Epoch 66/100\n",
            "7/7 [==============================] - 0s 12ms/step - loss: 1.0830 - accuracy: 0.3736 - val_loss: 1.1049 - val_accuracy: 0.3889\n",
            "Epoch 67/100\n",
            "7/7 [==============================] - 0s 14ms/step - loss: 1.0771 - accuracy: 0.4166 - val_loss: 1.0936 - val_accuracy: 0.3667\n",
            "Epoch 68/100\n",
            "7/7 [==============================] - 0s 13ms/step - loss: 1.1044 - accuracy: 0.3579 - val_loss: 1.0952 - val_accuracy: 0.3667\n",
            "Epoch 69/100\n",
            "7/7 [==============================] - 0s 14ms/step - loss: 1.0886 - accuracy: 0.3771 - val_loss: 1.0852 - val_accuracy: 0.3889\n",
            "Epoch 70/100\n",
            "7/7 [==============================] - 0s 12ms/step - loss: 1.0906 - accuracy: 0.4185 - val_loss: 1.0982 - val_accuracy: 0.3667\n",
            "Epoch 71/100\n",
            "7/7 [==============================] - 0s 12ms/step - loss: 1.0832 - accuracy: 0.3474 - val_loss: 1.0799 - val_accuracy: 0.3889\n",
            "Epoch 72/100\n",
            "7/7 [==============================] - 0s 12ms/step - loss: 1.0826 - accuracy: 0.4131 - val_loss: 1.0873 - val_accuracy: 0.3889\n",
            "Epoch 73/100\n",
            "7/7 [==============================] - 0s 12ms/step - loss: 1.0806 - accuracy: 0.3757 - val_loss: 1.0900 - val_accuracy: 0.3889\n",
            "Epoch 74/100\n",
            "7/7 [==============================] - 0s 15ms/step - loss: 1.0775 - accuracy: 0.3764 - val_loss: 1.0814 - val_accuracy: 0.3889\n",
            "Epoch 75/100\n",
            "7/7 [==============================] - 0s 14ms/step - loss: 1.0753 - accuracy: 0.3885 - val_loss: 1.0862 - val_accuracy: 0.3889\n",
            "Epoch 76/100\n",
            "7/7 [==============================] - 0s 14ms/step - loss: 1.0799 - accuracy: 0.4021 - val_loss: 1.0807 - val_accuracy: 0.3889\n",
            "Epoch 77/100\n",
            "7/7 [==============================] - 0s 12ms/step - loss: 1.0710 - accuracy: 0.4236 - val_loss: 1.0906 - val_accuracy: 0.3667\n",
            "Epoch 78/100\n",
            "7/7 [==============================] - 0s 12ms/step - loss: 1.0856 - accuracy: 0.3019 - val_loss: 1.0811 - val_accuracy: 0.3667\n",
            "Epoch 79/100\n",
            "7/7 [==============================] - 0s 13ms/step - loss: 1.0684 - accuracy: 0.4183 - val_loss: 1.0965 - val_accuracy: 0.3889\n",
            "Epoch 80/100\n",
            "7/7 [==============================] - 0s 12ms/step - loss: 1.0857 - accuracy: 0.4008 - val_loss: 1.0851 - val_accuracy: 0.3667\n",
            "Epoch 81/100\n",
            "7/7 [==============================] - 0s 12ms/step - loss: 1.0724 - accuracy: 0.2851 - val_loss: 1.0887 - val_accuracy: 0.3889\n",
            "Epoch 82/100\n",
            "7/7 [==============================] - 0s 13ms/step - loss: 1.0708 - accuracy: 0.4186 - val_loss: 1.0842 - val_accuracy: 0.3667\n",
            "Epoch 83/100\n",
            "7/7 [==============================] - 0s 14ms/step - loss: 1.0728 - accuracy: 0.3775 - val_loss: 1.0900 - val_accuracy: 0.3889\n",
            "Epoch 84/100\n",
            "7/7 [==============================] - 0s 15ms/step - loss: 1.0552 - accuracy: 0.4654 - val_loss: 1.0898 - val_accuracy: 0.3667\n",
            "Epoch 85/100\n",
            "7/7 [==============================] - 0s 15ms/step - loss: 1.1569 - accuracy: 0.3729 - val_loss: 1.0806 - val_accuracy: 0.3889\n",
            "Epoch 86/100\n",
            "7/7 [==============================] - 0s 14ms/step - loss: 1.1000 - accuracy: 0.4106 - val_loss: 1.0997 - val_accuracy: 0.3889\n",
            "Epoch 87/100\n",
            "7/7 [==============================] - 0s 14ms/step - loss: 1.0770 - accuracy: 0.3751 - val_loss: 1.0812 - val_accuracy: 0.3667\n",
            "Epoch 88/100\n",
            "7/7 [==============================] - 0s 14ms/step - loss: 1.0754 - accuracy: 0.3523 - val_loss: 1.0849 - val_accuracy: 0.3889\n",
            "Epoch 89/100\n",
            "7/7 [==============================] - 0s 15ms/step - loss: 1.0924 - accuracy: 0.3819 - val_loss: 1.0877 - val_accuracy: 0.3667\n",
            "Epoch 90/100\n",
            "7/7 [==============================] - 0s 14ms/step - loss: 1.0694 - accuracy: 0.3923 - val_loss: 1.0816 - val_accuracy: 0.3889\n",
            "Epoch 91/100\n",
            "7/7 [==============================] - 0s 15ms/step - loss: 1.0630 - accuracy: 0.4173 - val_loss: 1.0830 - val_accuracy: 0.3889\n",
            "Epoch 92/100\n",
            "7/7 [==============================] - 0s 14ms/step - loss: 1.0600 - accuracy: 0.3842 - val_loss: 1.0819 - val_accuracy: 0.3889\n",
            "Epoch 93/100\n",
            "7/7 [==============================] - 0s 14ms/step - loss: 1.0638 - accuracy: 0.4159 - val_loss: 1.0825 - val_accuracy: 0.3889\n",
            "Epoch 94/100\n",
            "7/7 [==============================] - 0s 14ms/step - loss: 1.0793 - accuracy: 0.4049 - val_loss: 1.0847 - val_accuracy: 0.3667\n",
            "Epoch 95/100\n",
            "7/7 [==============================] - 0s 15ms/step - loss: 1.0769 - accuracy: 0.3914 - val_loss: 1.0830 - val_accuracy: 0.3889\n",
            "Epoch 96/100\n",
            "7/7 [==============================] - 0s 14ms/step - loss: 1.0752 - accuracy: 0.3921 - val_loss: 1.0841 - val_accuracy: 0.3889\n",
            "Epoch 97/100\n",
            "7/7 [==============================] - 0s 13ms/step - loss: 1.0658 - accuracy: 0.4213 - val_loss: 1.0821 - val_accuracy: 0.3667\n",
            "Epoch 98/100\n",
            "7/7 [==============================] - 0s 14ms/step - loss: 1.0628 - accuracy: 0.3962 - val_loss: 1.0833 - val_accuracy: 0.3889\n",
            "Epoch 99/100\n",
            "7/7 [==============================] - 0s 14ms/step - loss: 1.0704 - accuracy: 0.3897 - val_loss: 1.0802 - val_accuracy: 0.3889\n",
            "Epoch 100/100\n",
            "7/7 [==============================] - 0s 14ms/step - loss: 1.0722 - accuracy: 0.3983 - val_loss: 1.0894 - val_accuracy: 0.3889\n"
          ],
          "name": "stdout"
        },
        {
          "output_type": "execute_result",
          "data": {
            "text/plain": [
              "<keras.callbacks.History at 0x7efffa069910>"
            ]
          },
          "metadata": {
            "tags": []
          },
          "execution_count": 77
        }
      ]
    },
    {
      "cell_type": "code",
      "metadata": {
        "colab": {
          "base_uri": "https://localhost:8080/"
        },
        "id": "oRIvLIEF8kpR",
        "outputId": "ca8c7f61-09a6-432d-9339-648f80504f09"
      },
      "source": [
        "count = 0\n",
        "videoFile = \"vidtest2.mp4\"\n",
        "cap = cv2.VideoCapture(videoFile)\n",
        "#frame rate\n",
        "frameRate = cap.get(5) \n",
        "x=1\n",
        "while(cap.isOpened()):\n",
        "    #current frame number\n",
        "    frameId = cap.get(1) \n",
        "    ret, frame = cap.read()\n",
        "    if (ret != True):\n",
        "        break\n",
        "    if (frameId % math.floor(frameRate) == 0):\n",
        "        filename =\"test%d.jpg\" % count;count+=1\n",
        "        cv2.imwrite(filename, frame)\n",
        "cap.release()\n",
        "print (\"Complete!\")\n"
      ],
      "execution_count": null,
      "outputs": [
        {
          "output_type": "stream",
          "text": [
            "Complete!\n"
          ],
          "name": "stdout"
        }
      ]
    },
    {
      "cell_type": "code",
      "metadata": {
        "id": "q0xA5-ig8v0Z"
      },
      "source": [
        "test = pd.read_csv('/content/drive/My Drive/Colab Notebooks/test.csv')"
      ],
      "execution_count": null,
      "outputs": []
    },
    {
      "cell_type": "code",
      "metadata": {
        "colab": {
          "base_uri": "https://localhost:8080/",
          "height": 202
        },
        "id": "vg2l1XGN9GKS",
        "outputId": "e785f6d0-456f-4026-bf9b-42a5aacc2ceb"
      },
      "source": [
        "test.head()"
      ],
      "execution_count": null,
      "outputs": [
        {
          "output_type": "execute_result",
          "data": {
            "text/html": [
              "<div>\n",
              "<style scoped>\n",
              "    .dataframe tbody tr th:only-of-type {\n",
              "        vertical-align: middle;\n",
              "    }\n",
              "\n",
              "    .dataframe tbody tr th {\n",
              "        vertical-align: top;\n",
              "    }\n",
              "\n",
              "    .dataframe thead th {\n",
              "        text-align: right;\n",
              "    }\n",
              "</style>\n",
              "<table border=\"1\" class=\"dataframe\">\n",
              "  <thead>\n",
              "    <tr style=\"text-align: right;\">\n",
              "      <th></th>\n",
              "      <th>Image_ID</th>\n",
              "    </tr>\n",
              "  </thead>\n",
              "  <tbody>\n",
              "    <tr>\n",
              "      <th>0</th>\n",
              "      <td>test0.jpg</td>\n",
              "    </tr>\n",
              "    <tr>\n",
              "      <th>1</th>\n",
              "      <td>test1.jpg</td>\n",
              "    </tr>\n",
              "    <tr>\n",
              "      <th>2</th>\n",
              "      <td>test2.jpg</td>\n",
              "    </tr>\n",
              "    <tr>\n",
              "      <th>3</th>\n",
              "      <td>test3.jpg</td>\n",
              "    </tr>\n",
              "    <tr>\n",
              "      <th>4</th>\n",
              "      <td>test4.jpg</td>\n",
              "    </tr>\n",
              "  </tbody>\n",
              "</table>\n",
              "</div>"
            ],
            "text/plain": [
              "    Image_ID\n",
              "0  test0.jpg\n",
              "1  test1.jpg\n",
              "2  test2.jpg\n",
              "3  test3.jpg\n",
              "4  test4.jpg"
            ]
          },
          "metadata": {
            "tags": []
          },
          "execution_count": 80
        }
      ]
    },
    {
      "cell_type": "code",
      "metadata": {
        "id": "lzv2NqaL9S_K"
      },
      "source": [
        "test_image = []\n",
        "for img_name in test.Image_ID:\n",
        "    #img = plt.imread('' + img_name)\n",
        "    test_image.append(img)\n",
        "test_img = np.array(test_image)"
      ],
      "execution_count": null,
      "outputs": []
    },
    {
      "cell_type": "code",
      "metadata": {
        "id": "poki2LRa9Ysq"
      },
      "source": [
        "test_image = []\n",
        "for i in range(0,test_img.shape[0]):\n",
        "    a = resize(test_img[i], preserve_range=True, output_shape=(224,224)).astype(int)\n",
        "    test_image.append(a)\n",
        "test_image = np.array(test_image)"
      ],
      "execution_count": null,
      "outputs": []
    },
    {
      "cell_type": "code",
      "metadata": {
        "id": "Ood9H7Xr9jHy"
      },
      "source": [
        "\n",
        "# PREPROCESSING THE IMAGE\n",
        "#test_image = preprocess_input(test_image, mode='tf')\n",
        "\n",
        "# extracting features from the images using pretrained model\n",
        "test_image = base_model.predict(test_image)\n",
        "\n",
        "# converting the images to 1-D form\n",
        "test_image = test_image.reshape(186, 7*7*512)\n",
        "\n",
        "# zero centered images\n",
        "test_image = test_image/test_image.max()\n"
      ],
      "execution_count": null,
      "outputs": []
    },
    {
      "cell_type": "code",
      "metadata": {
        "colab": {
          "base_uri": "https://localhost:8080/"
        },
        "id": "RL48_BLx_kbM",
        "outputId": "31f3cf88-f3e7-4b21-c5dd-932ac88ea699"
      },
      "source": [
        "predictions = model.predict_classes(test_image)"
      ],
      "execution_count": null,
      "outputs": [
        {
          "output_type": "stream",
          "text": [
            "/usr/local/lib/python3.7/dist-packages/keras/engine/sequential.py:450: UserWarning: `model.predict_classes()` is deprecated and will be removed after 2021-01-01. Please use instead:* `np.argmax(model.predict(x), axis=-1)`,   if your model does multi-class classification   (e.g. if it uses a `softmax` last-layer activation).* `(model.predict(x) > 0.5).astype(\"int32\")`,   if your model does binary classification   (e.g. if it uses a `sigmoid` last-layer activation).\n",
            "  warnings.warn('`model.predict_classes()` is deprecated and '\n"
          ],
          "name": "stderr"
        }
      ]
    },
    {
      "cell_type": "code",
      "metadata": {
        "colab": {
          "base_uri": "https://localhost:8080/"
        },
        "id": "5JHEKkUyXfM4",
        "outputId": "f9ab39f3-ead3-4b70-d1ec-4026d22ecbaa"
      },
      "source": [
        "print(\"The trolley guy performs for \", predictions[predictions==1].shape[0], \"msec\")\n",
        "print(\"The trolley guy performs for \", predictions[predictions==2].shape[0], \"msec\")"
      ],
      "execution_count": null,
      "outputs": [
        {
          "output_type": "stream",
          "text": [
            "The trolley guy performs for  0 msec\n",
            "The trolley guy performs for  186 msec\n"
          ],
          "name": "stdout"
        }
      ]
    },
    {
      "cell_type": "code",
      "metadata": {
        "id": "dAqbRV0Uxmo_"
      },
      "source": [
        "##Configuring streamlit "
      ],
      "execution_count": 1,
      "outputs": []
    },
    {
      "cell_type": "code",
      "metadata": {
        "colab": {
          "base_uri": "https://localhost:8080/"
        },
        "id": "FyCQr1vMQovf",
        "outputId": "b48a0dfb-060e-46cc-fd9e-754a0811437f"
      },
      "source": [
        "!pip install -U ipykernel"
      ],
      "execution_count": 3,
      "outputs": [
        {
          "output_type": "stream",
          "text": [
            "Requirement already up-to-date: ipykernel in /usr/local/lib/python3.7/dist-packages (5.5.5)\n",
            "Requirement already satisfied, skipping upgrade: ipython>=5.0.0 in /usr/local/lib/python3.7/dist-packages (from ipykernel) (5.5.0)\n",
            "Requirement already satisfied, skipping upgrade: jupyter-client in /usr/local/lib/python3.7/dist-packages (from ipykernel) (5.3.5)\n",
            "Requirement already satisfied, skipping upgrade: tornado>=4.2 in /usr/local/lib/python3.7/dist-packages (from ipykernel) (5.1.1)\n",
            "Requirement already satisfied, skipping upgrade: traitlets>=4.1.0 in /usr/local/lib/python3.7/dist-packages (from ipykernel) (5.0.5)\n",
            "Requirement already satisfied, skipping upgrade: simplegeneric>0.8 in /usr/local/lib/python3.7/dist-packages (from ipython>=5.0.0->ipykernel) (0.8.1)\n",
            "Requirement already satisfied, skipping upgrade: decorator in /usr/local/lib/python3.7/dist-packages (from ipython>=5.0.0->ipykernel) (4.4.2)\n",
            "Requirement already satisfied, skipping upgrade: pygments in /usr/local/lib/python3.7/dist-packages (from ipython>=5.0.0->ipykernel) (2.6.1)\n",
            "Requirement already satisfied, skipping upgrade: pexpect; sys_platform != \"win32\" in /usr/local/lib/python3.7/dist-packages (from ipython>=5.0.0->ipykernel) (4.8.0)\n",
            "Requirement already satisfied, skipping upgrade: setuptools>=18.5 in /usr/local/lib/python3.7/dist-packages (from ipython>=5.0.0->ipykernel) (57.0.0)\n",
            "Requirement already satisfied, skipping upgrade: pickleshare in /usr/local/lib/python3.7/dist-packages (from ipython>=5.0.0->ipykernel) (0.7.5)\n",
            "Requirement already satisfied, skipping upgrade: prompt-toolkit<2.0.0,>=1.0.4 in /usr/local/lib/python3.7/dist-packages (from ipython>=5.0.0->ipykernel) (1.0.18)\n",
            "Requirement already satisfied, skipping upgrade: python-dateutil>=2.1 in /usr/local/lib/python3.7/dist-packages (from jupyter-client->ipykernel) (2.8.1)\n",
            "Requirement already satisfied, skipping upgrade: jupyter-core>=4.6.0 in /usr/local/lib/python3.7/dist-packages (from jupyter-client->ipykernel) (4.7.1)\n",
            "Requirement already satisfied, skipping upgrade: pyzmq>=13 in /usr/local/lib/python3.7/dist-packages (from jupyter-client->ipykernel) (22.1.0)\n",
            "Requirement already satisfied, skipping upgrade: ipython-genutils in /usr/local/lib/python3.7/dist-packages (from traitlets>=4.1.0->ipykernel) (0.2.0)\n",
            "Requirement already satisfied, skipping upgrade: ptyprocess>=0.5 in /usr/local/lib/python3.7/dist-packages (from pexpect; sys_platform != \"win32\"->ipython>=5.0.0->ipykernel) (0.7.0)\n",
            "Requirement already satisfied, skipping upgrade: six>=1.9.0 in /usr/local/lib/python3.7/dist-packages (from prompt-toolkit<2.0.0,>=1.0.4->ipython>=5.0.0->ipykernel) (1.15.0)\n",
            "Requirement already satisfied, skipping upgrade: wcwidth in /usr/local/lib/python3.7/dist-packages (from prompt-toolkit<2.0.0,>=1.0.4->ipython>=5.0.0->ipykernel) (0.2.5)\n"
          ],
          "name": "stdout"
        }
      ]
    },
    {
      "cell_type": "code",
      "metadata": {
        "id": "qwtIjj80XpHS"
      },
      "source": [
        "!pip install -q streamlit"
      ],
      "execution_count": 5,
      "outputs": []
    },
    {
      "cell_type": "code",
      "metadata": {
        "colab": {
          "base_uri": "https://localhost:8080/"
        },
        "id": "soCgv7OXQjUx",
        "outputId": "a2b76795-4e82-4114-f61e-120c321b4325"
      },
      "source": [
        "!pip -q install pyngrok"
      ],
      "execution_count": 6,
      "outputs": [
        {
          "output_type": "stream",
          "text": [
            "\u001b[?25l\r\u001b[K     |▍                               | 10kB 27.1MB/s eta 0:00:01\r\u001b[K     |▉                               | 20kB 35.0MB/s eta 0:00:01\r\u001b[K     |█▎                              | 30kB 38.6MB/s eta 0:00:01\r\u001b[K     |█▊                              | 40kB 32.7MB/s eta 0:00:01\r\u001b[K     |██▏                             | 51kB 33.7MB/s eta 0:00:01\r\u001b[K     |██▋                             | 61kB 35.3MB/s eta 0:00:01\r\u001b[K     |███                             | 71kB 29.2MB/s eta 0:00:01\r\u001b[K     |███▌                            | 81kB 30.7MB/s eta 0:00:01\r\u001b[K     |████                            | 92kB 31.9MB/s eta 0:00:01\r\u001b[K     |████▍                           | 102kB 33.1MB/s eta 0:00:01\r\u001b[K     |████▉                           | 112kB 33.1MB/s eta 0:00:01\r\u001b[K     |█████▎                          | 122kB 33.1MB/s eta 0:00:01\r\u001b[K     |█████▊                          | 133kB 33.1MB/s eta 0:00:01\r\u001b[K     |██████▏                         | 143kB 33.1MB/s eta 0:00:01\r\u001b[K     |██████▋                         | 153kB 33.1MB/s eta 0:00:01\r\u001b[K     |███████                         | 163kB 33.1MB/s eta 0:00:01\r\u001b[K     |███████▌                        | 174kB 33.1MB/s eta 0:00:01\r\u001b[K     |████████                        | 184kB 33.1MB/s eta 0:00:01\r\u001b[K     |████████▍                       | 194kB 33.1MB/s eta 0:00:01\r\u001b[K     |████████▉                       | 204kB 33.1MB/s eta 0:00:01\r\u001b[K     |█████████▎                      | 215kB 33.1MB/s eta 0:00:01\r\u001b[K     |█████████▊                      | 225kB 33.1MB/s eta 0:00:01\r\u001b[K     |██████████▏                     | 235kB 33.1MB/s eta 0:00:01\r\u001b[K     |██████████▌                     | 245kB 33.1MB/s eta 0:00:01\r\u001b[K     |███████████                     | 256kB 33.1MB/s eta 0:00:01\r\u001b[K     |███████████▍                    | 266kB 33.1MB/s eta 0:00:01\r\u001b[K     |███████████▉                    | 276kB 33.1MB/s eta 0:00:01\r\u001b[K     |████████████▎                   | 286kB 33.1MB/s eta 0:00:01\r\u001b[K     |████████████▊                   | 296kB 33.1MB/s eta 0:00:01\r\u001b[K     |█████████████▏                  | 307kB 33.1MB/s eta 0:00:01\r\u001b[K     |█████████████▋                  | 317kB 33.1MB/s eta 0:00:01\r\u001b[K     |██████████████                  | 327kB 33.1MB/s eta 0:00:01\r\u001b[K     |██████████████▌                 | 337kB 33.1MB/s eta 0:00:01\r\u001b[K     |███████████████                 | 348kB 33.1MB/s eta 0:00:01\r\u001b[K     |███████████████▍                | 358kB 33.1MB/s eta 0:00:01\r\u001b[K     |███████████████▉                | 368kB 33.1MB/s eta 0:00:01\r\u001b[K     |████████████████▎               | 378kB 33.1MB/s eta 0:00:01\r\u001b[K     |████████████████▊               | 389kB 33.1MB/s eta 0:00:01\r\u001b[K     |█████████████████▏              | 399kB 33.1MB/s eta 0:00:01\r\u001b[K     |█████████████████▋              | 409kB 33.1MB/s eta 0:00:01\r\u001b[K     |██████████████████              | 419kB 33.1MB/s eta 0:00:01\r\u001b[K     |██████████████████▌             | 430kB 33.1MB/s eta 0:00:01\r\u001b[K     |███████████████████             | 440kB 33.1MB/s eta 0:00:01\r\u001b[K     |███████████████████▍            | 450kB 33.1MB/s eta 0:00:01\r\u001b[K     |███████████████████▉            | 460kB 33.1MB/s eta 0:00:01\r\u001b[K     |████████████████████▎           | 471kB 33.1MB/s eta 0:00:01\r\u001b[K     |████████████████████▊           | 481kB 33.1MB/s eta 0:00:01\r\u001b[K     |█████████████████████           | 491kB 33.1MB/s eta 0:00:01\r\u001b[K     |█████████████████████▌          | 501kB 33.1MB/s eta 0:00:01\r\u001b[K     |██████████████████████          | 512kB 33.1MB/s eta 0:00:01\r\u001b[K     |██████████████████████▍         | 522kB 33.1MB/s eta 0:00:01\r\u001b[K     |██████████████████████▉         | 532kB 33.1MB/s eta 0:00:01\r\u001b[K     |███████████████████████▎        | 542kB 33.1MB/s eta 0:00:01\r\u001b[K     |███████████████████████▊        | 552kB 33.1MB/s eta 0:00:01\r\u001b[K     |████████████████████████▏       | 563kB 33.1MB/s eta 0:00:01\r\u001b[K     |████████████████████████▋       | 573kB 33.1MB/s eta 0:00:01\r\u001b[K     |█████████████████████████       | 583kB 33.1MB/s eta 0:00:01\r\u001b[K     |█████████████████████████▌      | 593kB 33.1MB/s eta 0:00:01\r\u001b[K     |██████████████████████████      | 604kB 33.1MB/s eta 0:00:01\r\u001b[K     |██████████████████████████▍     | 614kB 33.1MB/s eta 0:00:01\r\u001b[K     |██████████████████████████▉     | 624kB 33.1MB/s eta 0:00:01\r\u001b[K     |███████████████████████████▎    | 634kB 33.1MB/s eta 0:00:01\r\u001b[K     |███████████████████████████▊    | 645kB 33.1MB/s eta 0:00:01\r\u001b[K     |████████████████████████████▏   | 655kB 33.1MB/s eta 0:00:01\r\u001b[K     |████████████████████████████▋   | 665kB 33.1MB/s eta 0:00:01\r\u001b[K     |█████████████████████████████   | 675kB 33.1MB/s eta 0:00:01\r\u001b[K     |█████████████████████████████▌  | 686kB 33.1MB/s eta 0:00:01\r\u001b[K     |██████████████████████████████  | 696kB 33.1MB/s eta 0:00:01\r\u001b[K     |██████████████████████████████▍ | 706kB 33.1MB/s eta 0:00:01\r\u001b[K     |██████████████████████████████▉ | 716kB 33.1MB/s eta 0:00:01\r\u001b[K     |███████████████████████████████▏| 727kB 33.1MB/s eta 0:00:01\r\u001b[K     |███████████████████████████████▋| 737kB 33.1MB/s eta 0:00:01\r\u001b[K     |████████████████████████████████| 747kB 33.1MB/s \n",
            "\u001b[?25h  Building wheel for pyngrok (setup.py) ... \u001b[?25l\u001b[?25hdone\n"
          ],
          "name": "stdout"
        }
      ]
    },
    {
      "cell_type": "code",
      "metadata": {
        "colab": {
          "base_uri": "https://localhost:8080/"
        },
        "id": "Ka5AqERnRBVw",
        "outputId": "202d819e-8776-430a-b3df-afb5641fa8d7"
      },
      "source": [
        "!ngrok authtoken 1uEH9Om0tak44DfoXNucNIOaaWX_7yNbWHGJezQKJuSG1yYMC"
      ],
      "execution_count": 33,
      "outputs": [
        {
          "output_type": "stream",
          "text": [
            "Authtoken saved to configuration file: /root/.ngrok2/ngrok.yml\n"
          ],
          "name": "stdout"
        }
      ]
    },
    {
      "cell_type": "code",
      "metadata": {
        "id": "f7w64b6NWF-I"
      },
      "source": [
        "from pyngrok import ngrok"
      ],
      "execution_count": 35,
      "outputs": []
    },
    {
      "cell_type": "code",
      "metadata": {
        "colab": {
          "base_uri": "https://localhost:8080/"
        },
        "id": "NAqsrmQnR8nz",
        "outputId": "5ab90344-96dc-4e36-8727-c81fde581eec"
      },
      "source": [
        "%%writefile vgg16.py\n",
        "\n",
        "import streamlit as st\n",
        "import cv2 \n",
        "import math \n",
        "import tempfile    \n",
        "import pandas as pd\n",
        "\n",
        "from keras.preprocessing.image import load_img\n",
        "from keras.preprocessing.image import img_to_array\n",
        "from keras.applications.vgg16 import preprocess_input\n",
        "from keras.applications.vgg16 import decode_predictions\n",
        "from keras.applications.vgg16 import VGG16\n",
        "from PIL import Image \n",
        "\n",
        "st.title(\"Object Detection Using VGG16\")\n",
        "\n",
        "def uploadFile():\n",
        "  vid_file = st.file_uploader(\"Upload a video\", type=[\"mp4\", \"mov\",\"avi\"])\n",
        "  tempVideo = tempfile.NamedTemporaryFile(delete=False) \n",
        "  if vid_file is not None: \n",
        "    tempVideo.write(vid_file.read())\n",
        "  return tempVideo.name\n",
        "\n",
        "def splitVideo(videoPath):\n",
        "  count = 0\n",
        "  cap = cv2.VideoCapture(videoPath)\n",
        "  frameRate = cap.get(5) \n",
        "  tempImage = tempfile.NamedTemporaryFile(delete=False) \n",
        "  x=1\n",
        "\n",
        "  while (cap.isOpened()):\n",
        "    frameId = cap.get(1) \n",
        "    ret, frame = cap.read()\n",
        "    if (ret != True):\n",
        "      break\n",
        "    if (frameId % math.floor(frameRate) == 0):\n",
        "      tempImage = videoPath.split('.')[0] +\"_frame%d.jpg\" % count;count+=1\n",
        "      cv2.imwrite(tempImage, frame)\n",
        "      frames.append(tempImage)\n",
        "  cap.release() \n",
        "  return frames,count\n",
        "\n",
        "def classifyObjects():  \n",
        "  model = VGG16()\n",
        "  classify = []\n",
        "  frames,count = splitVideo(videoFile)\n",
        "\n",
        "  for i in range(count):    \n",
        "    image = load_img(frames[i], target_size=(224, 224)) \n",
        "    image = img_to_array(image)\n",
        "    image = image.reshape((1, image.shape[0], image.shape[1], image.shape[2]))\n",
        "    image = preprocess_input(image)   \n",
        "    img_pred = model.predict(image)\n",
        "    label = decode_predictions(img_pred)    \n",
        "    label = label[0][0]\n",
        "    result =  label[1]\n",
        "    classify.append(result)\n",
        "  return classify\n",
        "\n",
        "def searchInFrames(object_):\n",
        "  indeces = []\n",
        "  classifications = classifyObjects()\n",
        "  if object_ in classifications:\n",
        "    for i in range(len(classifications)):\n",
        "      if classifications[i] == object_:\n",
        "        index = classifications.index(object_)\n",
        "        indeces.append(index)\n",
        "        filePath = frames[index]\n",
        "        img = load_img(filePath, target_size = (224, 224))\n",
        "        detected_paths.append(filePath)\n",
        "    for i in range(len(indeces)):\n",
        "      st.image(frames[i], width=224)\n",
        "  else:\n",
        "    st.write(\"The object you are searching for is not available in the video.\")\n",
        "\n",
        "videoFile = uploadFile()\n",
        "user_input = st.text_input(\"Enter the object you are searching: \")\n",
        "\n",
        "if st.button('Search'):  \n",
        "  frames =[]\n",
        "  detected_paths = []\n",
        "  searchInFrames(user_input)\n",
        "  st.write(\"\")\n",
        "\n",
        "\n"
      ],
      "execution_count": 41,
      "outputs": [
        {
          "output_type": "stream",
          "text": [
            "Overwriting vgg16.py\n"
          ],
          "name": "stdout"
        }
      ]
    },
    {
      "cell_type": "code",
      "metadata": {
        "id": "v6lN3N4SXNue"
      },
      "source": [
        "!streamlit run --server.port 80 vgg16.py &>/dev/null&"
      ],
      "execution_count": 42,
      "outputs": []
    },
    {
      "cell_type": "code",
      "metadata": {
        "id": "v_fBWr-IX0ke"
      },
      "source": [
        "public_url = ngrok.connect(port='8501') "
      ],
      "execution_count": 45,
      "outputs": []
    },
    {
      "cell_type": "code",
      "metadata": {
        "colab": {
          "base_uri": "https://localhost:8080/"
        },
        "id": "jjLHZTy7Yp5w",
        "outputId": "42e01ffc-2535-45cb-dd15-a0afb2ec5933"
      },
      "source": [
        "public_url"
      ],
      "execution_count": 46,
      "outputs": [
        {
          "output_type": "execute_result",
          "data": {
            "text/plain": [
              "<NgrokTunnel: \"http://cd6d47100da9.ngrok.io\" -> \"http://localhost:80\">"
            ]
          },
          "metadata": {
            "tags": []
          },
          "execution_count": 46
        }
      ]
    },
    {
      "cell_type": "code",
      "metadata": {
        "id": "mhXtfb26YlD4"
      },
      "source": [
        "ngrok.kill()"
      ],
      "execution_count": 44,
      "outputs": []
    },
    {
      "cell_type": "code",
      "metadata": {
        "id": "FXSal17iay1-"
      },
      "source": [
        ""
      ],
      "execution_count": null,
      "outputs": []
    }
  ]
}